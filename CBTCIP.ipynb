{
 "cells": [
  {
   "cell_type": "markdown",
   "id": "04c76bbc-1025-4e7e-9757-d11c4e979b2e",
   "metadata": {},
   "source": [
    "# Mastermind Game"
   ]
  },
  {
   "cell_type": "code",
   "execution_count": null,
   "id": "f4cb9514-f6c7-4023-a0c0-e99e313ca248",
   "metadata": {},
   "outputs": [],
   "source": [
    "import random\n",
    "\n",
    "def get_hint(secret, guess):\n",
    "    correct_position = 0\n",
    "    correct_digit = 0\n",
    "    \n",
    "    for s, g in zip(secret, guess):\n",
    "        if s == g:\n",
    "            correct_position += 1\n",
    "        elif g in secret:\n",
    "            correct_digit += 1\n",
    "\n",
    "    return correct_position, correct_digit\n",
    "\n",
    "def play_round(player, secret):\n",
    "    attempts = 0\n",
    "    while True:\n",
    "        guess = input(f\"Player {player}, enter your guess: \")\n",
    "        attempts += 1\n",
    "        if guess == secret:\n",
    "            print(f\"Player {player} guessed the number {secret} correctly in {attempts} attempts!\")\n",
    "            return attempts\n",
    "        else:\n",
    "            correct_position, correct_digit = get_hint(secret, guess)\n",
    "            print(f\"Player {player}, Hint: {correct_position} digits in correct position and {correct_digit} correct digits in wrong position.\")\n",
    "\n",
    "def main():\n",
    "    print(\"Welcome to Mastermind!\")\n",
    "    \n",
    "    # Player 1 sets the number\n",
    "    secret1 = input(\"Player 1, set your multi-digit number: \")\n",
    "    print(\"\\n\" * 50)  # Clearing the screen\n",
    "    \n",
    "    # Player 2 tries to guess\n",
    "    print(\"Player 2, it's your turn to guess the number set by Player 1.\")\n",
    "    attempts2 = play_round(2, secret1)\n",
    "    \n",
    "    # Player 2 sets the number\n",
    "    secret2 = input(\"Player 2, set your multi-digit number: \")\n",
    "    print(\"\\n\" * 50)  # Clearing the screen\n",
    "    \n",
    "    # Player 1 tries to guess\n",
    "    print(\"Player 1, it's your turn to guess the number set by Player 2.\")\n",
    "    attempts1 = play_round(1, secret2)\n",
    "    \n",
    "    # Determine the winner\n",
    "    if attempts1 < attempts2:\n",
    "        print(\"Player 1 wins and is crowned Mastermind!\")\n",
    "    elif attempts1 > attempts2:\n",
    "        print(\"Player 2 wins and is crowned Mastermind!\")\n",
    "    else:\n",
    "        print(\"It's a tie! Both players guessed the numbers in the same number of attempts.\")\n",
    "\n",
    "if __name__ == \"__main__\":\n",
    "    main()\n"
   ]
  },
  {
   "cell_type": "markdown",
   "id": "9975ae1a-dd8f-4825-ad66-a0919d051c73",
   "metadata": {},
   "source": [
    "# Creating payment receipt"
   ]
  },
  {
   "cell_type": "code",
   "execution_count": null,
   "id": "4489d0ef-7a29-43a2-bf25-66a8d1107ada",
   "metadata": {},
   "outputs": [],
   "source": [
    "from reportlab.lib.pagesizes import letter\n",
    "from reportlab.pdfgen import canvas\n",
    "from datetime import datetime\n",
    "import os\n",
    "\n",
    "def create_receipt(receipt_number, date, customer_name, items, total_amount):\n",
    "    # Define the file path\n",
    "    receipt_filename = f\"receipt_{receipt_number}.pdf\"\n",
    "    receipt_path = os.path.join(os.getcwd(), receipt_filename)\n",
    "\n",
    "    # Create a new PDF with ReportLab\n",
    "    c = canvas.Canvas(receipt_path, pagesize=letter)\n",
    "    width, height = letter\n",
    "\n",
    "    # Title\n",
    "    c.setFont(\"Helvetica-Bold\", 24)\n",
    "    c.drawCentredString(width / 2.0, height - 50, \"Payment Receipt\")\n",
    "\n",
    "    # Receipt Details\n",
    "    c.setFont(\"Helvetica\", 12)\n",
    "    c.drawString(50, height - 100, f\"Receipt Number: {receipt_number}\")\n",
    "    c.drawString(50, height - 120, f\"Date: {date}\")\n",
    "    c.drawString(50, height - 140, f\"Customer Name: {customer_name}\")\n",
    "\n",
    "    # Items Header\n",
    "    c.drawString(50, height - 180, \"Item\")\n",
    "    c.drawString(200, height - 180, \"Quantity\")\n",
    "    c.drawString(300, height - 180, \"Price\")\n",
    "    c.drawString(400, height - 180, \"Total\")\n",
    "\n",
    "    # Draw a line below the header\n",
    "    c.line(50, height - 185, 500, height - 185)\n",
    "\n",
    "    # Items\n",
    "    y = height - 200\n",
    "    for item in items:\n",
    "        c.drawString(50, y, item['name'])\n",
    "        c.drawString(200, y, str(item['quantity']))\n",
    "        c.drawString(300, y, f\"${item['price']:.2f}\")\n",
    "        c.drawString(400, y, f\"${item['total']:.2f}\")\n",
    "        y -= 20\n",
    "\n",
    "    # Total Amount\n",
    "    c.setFont(\"Helvetica-Bold\", 12)\n",
    "    c.drawString(50, y - 20, f\"Total Amount: ${total_amount:.2f}\")\n",
    "\n",
    "    # Footer\n",
    "    c.setFont(\"Helvetica-Oblique\", 10)\n",
    "    c.drawCentredString(width / 2.0, 30, \"Thank you for your purchase!\")\n",
    "\n",
    "    # Save the PDF\n",
    "    c.save()\n",
    "\n",
    "    return receipt_path\n",
    "\n",
    "if __name__ == \"__main__\":\n",
    "    # Example data\n",
    "    receipt_number = 1234\n",
    "    date = datetime.now().strftime(\"%Y-%m-%d %H:%M:%S\")\n",
    "    customer_name = \"John Doe\"\n",
    "    items = [\n",
    "        {\"name\": \"Item A\", \"quantity\": 2, \"price\": 10.00, \"total\": 20.00},\n",
    "        {\"name\": \"Item B\", \"quantity\": 1, \"price\": 15.00, \"total\": 15.00},\n",
    "        {\"name\": \"Item C\", \"quantity\": 3, \"price\": 7.50, \"total\": 22.50},\n",
    "    ]\n",
    "    total_amount = sum(item['total'] for item in items)\n",
    "\n",
    "    receipt_path = create_receipt(receipt_number, date, customer_name, items, total_amount)\n",
    "    print(f\"Receipt created: {receipt_path}\")\n"
   ]
  },
  {
   "cell_type": "markdown",
   "id": "6c5f1412-5cb6-467b-be79-d748c1935f9e",
   "metadata": {},
   "source": [
    "# Record your voice"
   ]
  },
  {
   "cell_type": "code",
   "execution_count": 2,
   "id": "124539ce-b25c-468e-a9ac-5a2d7800a6e3",
   "metadata": {},
   "outputs": [
    {
     "name": "stdout",
     "output_type": "stream",
     "text": [
      "Recording for 10 seconds...\n",
      "Recording saved to C:\\Users\\dell\\recording.wav\n"
     ]
    }
   ],
   "source": [
    "import sounddevice as sd\n",
    "import wavio\n",
    "import os\n",
    "\n",
    "def record_audio(filename, duration, samplerate):\n",
    "    \"\"\"\n",
    "    Records audio from the default microphone and saves it to a file.\n",
    "    \n",
    "    Parameters:\n",
    "        filename (str): The name of the output WAV file.\n",
    "        duration (int): Duration of the recording in seconds.\n",
    "        samplerate (int): The sampling rate in Hz.\n",
    "    \"\"\"\n",
    "    print(f\"Recording for {duration} seconds...\")\n",
    "\n",
    "    # Record audio\n",
    "    audio_data = sd.rec(int(duration * samplerate), samplerate=samplerate, channels=2, dtype='int16')\n",
    "    sd.wait()  # Wait until the recording is finished\n",
    "\n",
    "    # Save the recorded audio to a file\n",
    "    wavio.write(filename, audio_data, samplerate, sampwidth=2)\n",
    "\n",
    "    # Get the full path of the saved file\n",
    "    file_path = os.path.abspath(filename)\n",
    "    print(f\"Recording saved to {file_path}\")\n",
    "\n",
    "if __name__ == \"__main__\":\n",
    "    # Parameters\n",
    "    filename = \"recording.wav\"\n",
    "    duration = 10  # Duration in seconds\n",
    "    samplerate = 44100  # Sampling rate in Hz\n",
    "\n",
    "    record_audio(filename, duration, samplerate)\n"
   ]
  },
  {
   "cell_type": "markdown",
   "id": "1d256049-cb26-48da-9eba-a17d143a0cfd",
   "metadata": {},
   "source": [
    "# Rock paper scissors game"
   ]
  },
  {
   "cell_type": "code",
   "execution_count": 5,
   "id": "b98540e1-e9d2-41d2-9477-58d6a84d3c21",
   "metadata": {},
   "outputs": [
    {
     "name": "stdout",
     "output_type": "stream",
     "text": [
      "Welcome to Rock, Paper, Scissors!\n",
      "Enter your choice: rock, paper, or scissors.\n"
     ]
    },
    {
     "name": "stdin",
     "output_type": "stream",
     "text": [
      "Your choice:  scissors\n"
     ]
    },
    {
     "name": "stdout",
     "output_type": "stream",
     "text": [
      "Player chose scissors\n",
      "Computer chose scissors\n",
      "Result: It's a tie\n"
     ]
    }
   ],
   "source": [
    "import random\n",
    "\n",
    "def rock_paper_scissors(player_choice, computer_choice):\n",
    "    \"\"\"\n",
    "    Determines the winner of a Rock, Paper, Scissors game.\n",
    "    \n",
    "    Parameters:\n",
    "        player_choice (str): The player's choice ('rock', 'paper', or 'scissors').\n",
    "        computer_choice (str): The computer's choice ('rock', 'paper', or 'scissors').\n",
    "    \n",
    "    Returns:\n",
    "        str: A string indicating the result of the game ('Player wins', 'Computer wins', or 'It's a tie').\n",
    "    \"\"\"\n",
    "    if player_choice == computer_choice:\n",
    "        return \"It's a tie\"\n",
    "    elif (player_choice == 'rock' and computer_choice == 'scissors') or \\\n",
    "         (player_choice == 'paper' and computer_choice == 'rock') or \\\n",
    "         (player_choice == 'scissors' and computer_choice == 'paper'):\n",
    "        return \"Player wins\"\n",
    "    else:\n",
    "        return \"Computer wins\"\n",
    "\n",
    "def main():\n",
    "    choices = ['rock', 'paper', 'scissors']\n",
    "    computer_choice = random.choice(choices)\n",
    "    \n",
    "    print(\"Welcome to Rock, Paper, Scissors!\")\n",
    "    print(\"Enter your choice: rock, paper, or scissors.\")\n",
    "    player_choice = input(\"Your choice: \").lower()\n",
    "    \n",
    "    if player_choice in choices:\n",
    "        result = rock_paper_scissors(player_choice, computer_choice)\n",
    "        print(f\"Player chose {player_choice}\")\n",
    "        print(f\"Computer chose {computer_choice}\")\n",
    "        print(f\"Result: {result}\")\n",
    "    else:\n",
    "        print(\"Invalid choice. Please enter 'rock', 'paper', or 'scissors'.\")\n",
    "\n",
    "if __name__ == \"__main__\":\n",
    "    main()\n"
   ]
  },
  {
   "cell_type": "code",
   "execution_count": null,
   "id": "abd7141d-71cd-4f96-8052-368bfa18d856",
   "metadata": {},
   "outputs": [],
   "source": []
  }
 ],
 "metadata": {
  "kernelspec": {
   "display_name": "Python 3 (ipykernel)",
   "language": "python",
   "name": "python3"
  },
  "language_info": {
   "codemirror_mode": {
    "name": "ipython",
    "version": 3
   },
   "file_extension": ".py",
   "mimetype": "text/x-python",
   "name": "python",
   "nbconvert_exporter": "python",
   "pygments_lexer": "ipython3",
   "version": "3.12.0"
  }
 },
 "nbformat": 4,
 "nbformat_minor": 5
}
